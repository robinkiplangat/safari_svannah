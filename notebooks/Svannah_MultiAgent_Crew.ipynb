{
  "cells": [
    {
      "cell_type": "markdown",
      "metadata": {
        "id": "4B6m1OSeC8iq"
      },
      "source": [
        "\n",
        "\n",
        "```\n",
        "# This is formatted as code\n",
        "```\n",
        "\n",
        "# AI toddler story generation\n",
        "Multi-agent system for creating stories"
      ]
    },
    {
      "cell_type": "code",
      "execution_count": null,
      "metadata": {
        "id": "Tf1stRaRC8it"
      },
      "outputs": [],
      "source": [
        "!pip install crewai==0.28.8 langchain_community==0.0.29 firecrawl-py crewai[tools]"
      ]
    },
    {
      "cell_type": "code",
      "source": [
        "pip install crewai"
      ],
      "metadata": {
        "id": "a2tIiqN33HW-"
      },
      "execution_count": null,
      "outputs": []
    },
    {
      "cell_type": "markdown",
      "source": [],
      "metadata": {
        "id": "KV2jBTYsP7vl"
      }
    },
    {
      "cell_type": "code",
      "source": [
        "from google.colab import drive\n",
        "drive.mount('/content/drive')"
      ],
      "metadata": {
        "id": "ePloKXuWVuPe",
        "colab": {
          "base_uri": "https://localhost:8080/"
        },
        "outputId": "b15a0e76-7bcd-41d4-fad7-e7fa1c3b761d"
      },
      "execution_count": null,
      "outputs": [
        {
          "output_type": "stream",
          "name": "stdout",
          "text": [
            "Drive already mounted at /content/drive; to attempt to forcibly remount, call drive.mount(\"/content/drive\", force_remount=True).\n"
          ]
        }
      ]
    },
    {
      "cell_type": "code",
      "source": [
        "from google.colab import drive\n",
        "drive.mount('/content/drive/')\n",
        "\n",
        "%cd '/content/drive/MyDrive/Colab Notebooks/Agents/svannah'"
      ],
      "metadata": {
        "colab": {
          "base_uri": "https://localhost:8080/"
        },
        "id": "fS4G7L0oIShJ",
        "outputId": "82dfde70-8b15-4f96-8855-9e20505bad4d"
      },
      "execution_count": null,
      "outputs": [
        {
          "output_type": "stream",
          "name": "stdout",
          "text": [
            "Drive already mounted at /content/drive/; to attempt to forcibly remount, call drive.mount(\"/content/drive/\", force_remount=True).\n",
            "/content/drive/MyDrive/Colab Notebooks/Agents/svannah\n"
          ]
        }
      ]
    },
    {
      "cell_type": "code",
      "source": [
        "# Warning control\n",
        "import warnings\n",
        "warnings.filterwarnings('ignore')"
      ],
      "metadata": {
        "id": "9bwr7RUcIy2U"
      },
      "execution_count": null,
      "outputs": []
    },
    {
      "cell_type": "markdown",
      "source": [
        "Import your staff :) & tools"
      ],
      "metadata": {
        "id": "sTsj1iPQI76b"
      }
    },
    {
      "cell_type": "code",
      "source": [
        "from crewai import Agent, Task, Crew"
      ],
      "metadata": {
        "id": "1qiH0pZgI1Th"
      },
      "execution_count": null,
      "outputs": []
    },
    {
      "cell_type": "code",
      "execution_count": null,
      "metadata": {
        "id": "PqKNTEPrC8iu"
      },
      "outputs": [],
      "source": [
        "from crewai import Agent, Task, Crew\n",
        "from crewai_tools import ScrapeWebsiteTool\n",
        "from pydantic import BaseModel, Field\n",
        "from typing import List, Dict, Optional\n",
        "import os"
      ]
    },
    {
      "cell_type": "markdown",
      "metadata": {
        "id": "W3_2ie6EC8iv"
      },
      "source": [
        "## Configure API Keys"
      ]
    },
    {
      "cell_type": "code",
      "execution_count": null,
      "metadata": {
        "id": "qUFe9LIWC8iw"
      },
      "outputs": [],
      "source": [
        "import os\n",
        "# from utils import get_openai_api_key\n",
        "from google.colab import userdata\n",
        "\n",
        "\n",
        "# openai_api_key = get_openai_api_key()\n",
        "\n",
        "os.environ[\"OPENAI_MODEL_NAME\"] = 'gpt-3.5-turbo'\n",
        "\n",
        "os.environ[\"OPENAI_API_KEY\"] = userdata.get('OPENAI_API_KEY')"
      ]
    },
    {
      "cell_type": "markdown",
      "metadata": {
        "id": "DRQ6XRAcC8i0"
      },
      "source": [
        "## Story Data Models"
      ]
    },
    {
      "cell_type": "code",
      "source": [
        "\n",
        "class StoryOutline(BaseModel):\n",
        "    scenes: list = Field(..., description=\"List of 5 story scenes\")\n",
        "    wisdom_phrase: str = Field(..., description=\"Repeating wisdom phrase\")\n",
        "    visual_elements: list = Field(..., description=\"Key visual elements for each scene\")\n",
        "\n",
        "class StoryContent(BaseModel):\n",
        "    text: str\n",
        "    image_prompts: list\n",
        "    parent_tips: list"
      ],
      "metadata": {
        "id": "A1sUVDkpWXlu"
      },
      "execution_count": null,
      "outputs": []
    },
    {
      "cell_type": "markdown",
      "metadata": {
        "id": "7O5eFnyKC8ix"
      },
      "source": [
        "## Define Agents"
      ]
    },
    {
      "cell_type": "markdown",
      "metadata": {
        "id": "vWPTJdu7C8iz"
      },
      "source": [
        "### Input Agent"
      ]
    },
    {
      "cell_type": "code",
      "execution_count": null,
      "metadata": {
        "id": "u8g_uBkhC8i2"
      },
      "outputs": [],
      "source": [
        "input_interpreter = Agent(\n",
        "    role=\"Child Story Input Analyst\",\n",
        "    goal=\"Extract key elements from parent's request\",\n",
        "    backstory=\"Expert in analyzing simple inputs to identify core story elements\",\n",
        "    verbose=True,\n",
        "    allow_delegation=False\n",
        ")"
      ]
    },
    {
      "cell_type": "markdown",
      "source": [
        "### Story Designer Agent"
      ],
      "metadata": {
        "id": "YJ6FfKCQZEil"
      }
    },
    {
      "cell_type": "code",
      "source": [
        "story_designer = Agent(\n",
        "    role=\"Child Development Story Architect\",\n",
        "    goal=\"Create age-appropriate story structures\",\n",
        "    backstory=\"Child psychologist specializing in early education through storytelling\",\n",
        "    verbose=True,\n",
        "    allow_delegation=False\n",
        ")"
      ],
      "metadata": {
        "id": "PCTiyufNY240"
      },
      "execution_count": null,
      "outputs": []
    },
    {
      "cell_type": "markdown",
      "source": [
        "### Narrative Writer Agent"
      ],
      "metadata": {
        "id": "iaHikfnXZcAQ"
      }
    },
    {
      "cell_type": "code",
      "source": [
        "narrative_writer = Agent(\n",
        "    role=\"Preschool Storyteller\",\n",
        "    goal=\"Write engaging simple narratives\",\n",
        "    backstory=\"Award-winning children's author with focus on rhyming texts\",\n",
        "    verbose=True,\n",
        "    allow_delegation=False\n",
        ")"
      ],
      "metadata": {
        "id": "vuuut4nYZibG"
      },
      "execution_count": null,
      "outputs": []
    },
    {
      "cell_type": "markdown",
      "source": [
        "### Visual Director Agent"
      ],
      "metadata": {
        "id": "DIduBwUbZkEM"
      }
    },
    {
      "cell_type": "code",
      "source": [
        "visual_director = Agent(\n",
        "    role=\"Cartoon Illustrator role specializing in explaining complex concepts to non-technical audiences\",\n",
        "    goal=\"Generate visual concepts for story scenes\",\n",
        "    backstory=\"3D animator specializing in toddler-friendly character design\",\n",
        "    verbose=True,\n",
        "    allow_delegation=False\n",
        ")"
      ],
      "metadata": {
        "id": "tFJweW4QZpuL"
      },
      "execution_count": null,
      "outputs": []
    },
    {
      "cell_type": "markdown",
      "source": [
        "### Parental Advisor Agent"
      ],
      "metadata": {
        "id": "KPlRhAnfZ-EW"
      }
    },
    {
      "cell_type": "code",
      "source": [
        "parent_advisor = Agent(\n",
        "    role=\"Family Bonding Expert\",\n",
        "    goal=\"Enhance parent-child interaction\",\n",
        "    backstory=\"Child therapist with focus on educational play activities\",\n",
        "    verbose=True,\n",
        "    allow_delegation=False\n",
        ")"
      ],
      "metadata": {
        "id": "qBWRp9ukaCoB"
      },
      "execution_count": null,
      "outputs": []
    },
    {
      "cell_type": "markdown",
      "metadata": {
        "id": "26-NHmtYC8i0"
      },
      "source": [
        "## Define Tasks"
      ]
    },
    {
      "cell_type": "markdown",
      "metadata": {
        "id": "xF-Ax-fWC8i0"
      },
      "source": [
        "### Input Analysis Task"
      ]
    },
    {
      "cell_type": "code",
      "execution_count": null,
      "metadata": {
        "id": "KH5xQ0woC8i1"
      },
      "outputs": [],
      "source": [
        "input_analysis_task = Task(\n",
        "    description=\"Analyze input: Animal={animal}, Lesson={lesson}\",\n",
        "    expected_output=\"Structured story elements including character traits and key lesson\",\n",
        "    agent=input_interpreter,\n",
        "    output_json=StoryOutline\n",
        ")"
      ]
    },
    {
      "cell_type": "markdown",
      "metadata": {
        "id": "Wb1yxknDC8i1"
      },
      "source": [
        "### Story Design Task"
      ]
    },
    {
      "cell_type": "code",
      "execution_count": null,
      "metadata": {
        "id": "Rm90k48EC8i1"
      },
      "outputs": [],
      "source": [
        "story_design_task = Task(\n",
        "    description=\"Create 5-scene story structure with repeating wisdom phrase '{wisdom}'\",\n",
        "    expected_output=\"Story outline with beginning-middle-end structure and simple conflict\",\n",
        "    agent=story_designer\n",
        ")"
      ]
    },
    {
      "cell_type": "markdown",
      "metadata": {
        "id": "t4ONBUKbC8i1"
      },
      "source": [
        "### Narrative Compilation Task"
      ]
    },
    {
      "cell_type": "code",
      "execution_count": null,
      "metadata": {
        "id": "J7WZA8AxC8i2"
      },
      "outputs": [],
      "source": [
        "narrative_task = Task(\n",
        "    description=\"Write rhyming story text with 1-2 sentences per scene\",\n",
        "    expected_output=\"Simple, repetitive text with alliteration and rhythm\",\n",
        "    agent=narrative_writer\n",
        ")"
      ]
    },
    {
      "cell_type": "markdown",
      "source": [
        "### Visual Task"
      ],
      "metadata": {
        "id": "ZbxqTSDIa3Lf"
      }
    },
    {
      "cell_type": "code",
      "source": [
        "visual_task = Task(\n",
        "    description=\"Generate 5 cartoon scene prompts with bold colors and simple compositions\",\n",
        "    expected_output=\"5 DALL-E prompts for 3D animation style images\",\n",
        "    agent=visual_director\n",
        ")"
      ],
      "metadata": {
        "id": "lzNck0Uua6qp"
      },
      "execution_count": null,
      "outputs": []
    },
    {
      "cell_type": "markdown",
      "source": [
        "### Parent Tips Task"
      ],
      "metadata": {
        "id": "pzAOPJtIbC_1"
      }
    },
    {
      "cell_type": "code",
      "source": [
        "parent_tips_task = Task(\n",
        "    description=\"Create interactive questions and bonding activities\",\n",
        "    expected_output=\"2 engagement questions and 1 play activity suggestion\",\n",
        "    agent=parent_advisor\n",
        ")"
      ],
      "metadata": {
        "id": "BAXgQebzbIBN"
      },
      "execution_count": null,
      "outputs": []
    },
    {
      "cell_type": "markdown",
      "metadata": {
        "id": "y1tpT0FjC8i2"
      },
      "source": [
        "## Create Story Crew\n"
      ]
    },
    {
      "cell_type": "code",
      "source": [
        "story_crew = Crew(\n",
        "    agents=[\n",
        "        input_interpreter,\n",
        "        story_designer,\n",
        "        narrative_writer,\n",
        "        visual_director,\n",
        "        parent_advisor\n",
        "    ],\n",
        "    tasks=[\n",
        "        input_analysis_task,\n",
        "        story_design_task,\n",
        "        narrative_task,\n",
        "        visual_task,\n",
        "        parent_tips_task\n",
        "    ],\n",
        "    verbose=2\n",
        ")"
      ],
      "metadata": {
        "id": "ZjHaXq_pcOVQ",
        "colab": {
          "base_uri": "https://localhost:8080/"
        },
        "outputId": "553178b1-b286-47df-e8ee-8ef34952796d"
      },
      "execution_count": null,
      "outputs": [
        {
          "output_type": "stream",
          "name": "stderr",
          "text": [
            "WARNING:opentelemetry.trace:Overriding of current TracerProvider is not allowed\n"
          ]
        }
      ]
    },
    {
      "cell_type": "markdown",
      "metadata": {
        "id": "J7FifAGyC8i3"
      },
      "source": [
        "## Execute Crew"
      ]
    },
    {
      "cell_type": "code",
      "execution_count": null,
      "metadata": {
        "id": "S1W6kdxLC8i4"
      },
      "outputs": [],
      "source": [
        "\n",
        "# Execute Crew\n",
        "inputs = {\n",
        "    \"animal\": \"Duma the Cheetah\",\n",
        "    \"lesson\": \"Courage\",\n",
        "    \"wisdom\": \"Courage makes us overcome huddles!\"\n",
        "}"
      ]
    },
    {
      "cell_type": "markdown",
      "metadata": {
        "id": "uMhyJzXQC8i4"
      },
      "source": [
        "## Display Results"
      ]
    },
    {
      "cell_type": "code",
      "source": [
        "# The execution remains the same\n",
        "result = story_crew.kickoff(inputs=inputs)"
      ],
      "metadata": {
        "id": "Mz0L9cvcXtZc"
      },
      "execution_count": null,
      "outputs": []
    },
    {
      "cell_type": "code",
      "execution_count": null,
      "metadata": {
        "id": "-ZIeOSbvC8i4",
        "colab": {
          "base_uri": "https://localhost:8080/",
          "height": 180
        },
        "outputId": "a1688372-cdc9-463c-9e4c-91718c13c210"
      },
      "outputs": [
        {
          "output_type": "execute_result",
          "data": {
            "text/plain": [
              "<IPython.core.display.Markdown object>"
            ],
            "text/markdown": "Engagement Question 1: How do you think Duma felt when he faced the lion? What emotions do you think were running through his mind at that moment?\n\nEngagement Question 2: If you were Duma, how would you have reacted in each of these situations? What choices would you have made?\n\nPlay Activity Suggestion: Create a storytelling game where the parent and child take turns narrating different scenarios for Duma, exploring themes of courage, bravery, and overcoming fears. Use the colorful illustrations as inspiration for the story and encourage the child to express their thoughts and feelings throughout the game. This activity will not only enhance parent-child interaction but also foster creativity and emotional intelligence in the child."
          },
          "metadata": {},
          "execution_count": 54
        }
      ],
      "source": [
        "from IPython.display import Markdown\n",
        "Markdown(result)"
      ]
    },
    {
      "cell_type": "code",
      "source": [
        "# Display Results\n",
        "from IPython.display import Markdown, Image\n",
        "\n",
        "new_var = Markdown(f\"\"\"\n",
        "    ## Generated Story Content:\n",
        "    {result}\n",
        "    \"\"\")\n",
        "\n",
        "\n",
        "# Display generated image prompts\n",
        "for prompt in result.image_prompts:\n",
        "    display(Markdown(f\"**Image Prompt:** {prompt}\"))\n",
        "\n",
        "    ### Parent Interaction Tips:\n",
        "    {'\\n'.join(result.parent_tips)}\n",
        "    \"\"\n",
        "\n",
        "display(new_var)\n",
        "\n",
        "# Display generated image prompts\n",
        "for prompt in result.image_prompts:\n",
        "    display(Markdown(f\"**Image Prompt:** {prompt}\"))"
      ],
      "metadata": {
        "id": "Jma4ki9fdUY6"
      },
      "execution_count": null,
      "outputs": []
    },
    {
      "cell_type": "code",
      "source": [],
      "metadata": {
        "id": "oc0KtJdp_sxb"
      },
      "execution_count": null,
      "outputs": []
    }
  ],
  "metadata": {
    "kernelspec": {
      "display_name": "Python 3",
      "name": "python3"
    },
    "language_info": {
      "codemirror_mode": {
        "name": "ipython",
        "version": 3
      },
      "file_extension": ".py",
      "mimetype": "text/x-python",
      "name": "python",
      "nbconvert_exporter": "python",
      "pygments_lexer": "ipython3",
      "version": "3.11.9"
    },
    "colab": {
      "provenance": [],
      "gpuType": "V28"
    },
    "accelerator": "TPU"
  },
  "nbformat": 4,
  "nbformat_minor": 0
}